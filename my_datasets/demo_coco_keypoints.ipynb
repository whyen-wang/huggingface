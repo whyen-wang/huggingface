{
 "cells": [
  {
   "cell_type": "code",
   "execution_count": null,
   "metadata": {},
   "outputs": [],
   "source": [
    "import cv2\n",
    "import numpy as np\n",
    "from PIL import Image\n",
    "from datasets.load import load_dataset"
   ]
  },
  {
   "cell_type": "code",
   "execution_count": null,
   "metadata": {},
   "outputs": [],
   "source": [
    "dataset = load_dataset('coco_keypoints', trust_remote_code=True)"
   ]
  },
  {
   "cell_type": "code",
   "execution_count": null,
   "metadata": {},
   "outputs": [],
   "source": [
    "def visualize(example):\n",
    "    image = np.array(example['image'])\n",
    "    bboxes = np.array(example['bboxes']).round().astype(int)\n",
    "    bboxes[:, 2:] += bboxes[:, :2]\n",
    "    keypoints = example['keypoints']\n",
    "    n = len(bboxes)\n",
    "    for i in range(n):\n",
    "        color = (255, 0, 0)\n",
    "        cv2.rectangle(image, bboxes[i, :2], bboxes[i, 2:], color, 2)\n",
    "        ks = keypoints[i]\n",
    "        for k in ks:\n",
    "            if k[-1] == 2:\n",
    "                cv2.circle(\n",
    "                    image, k[:2], 5, (0, 255, 0), 1\n",
    "                )\n",
    "    return image\n",
    "\n",
    "\n",
    "example = dataset['train'][0]\n",
    "Image.fromarray(visualize(example))"
   ]
  },
  {
   "cell_type": "code",
   "execution_count": null,
   "metadata": {},
   "outputs": [],
   "source": []
  }
 ],
 "metadata": {
  "kernelspec": {
   "display_name": ".env",
   "language": "python",
   "name": "python3"
  },
  "language_info": {
   "codemirror_mode": {
    "name": "ipython",
    "version": 3
   },
   "file_extension": ".py",
   "mimetype": "text/x-python",
   "name": "python",
   "nbconvert_exporter": "python",
   "pygments_lexer": "ipython3",
   "version": "3.12.2"
  }
 },
 "nbformat": 4,
 "nbformat_minor": 2
}
