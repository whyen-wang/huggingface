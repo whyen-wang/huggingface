{
 "cells": [
  {
   "cell_type": "code",
   "execution_count": null,
   "metadata": {},
   "outputs": [],
   "source": [
    "import cv2\n",
    "import numpy as np\n",
    "from PIL import Image\n",
    "from datasets.load import load_dataset\n",
    "from pycocotools import mask as maskUtils"
   ]
  },
  {
   "cell_type": "code",
   "execution_count": null,
   "metadata": {},
   "outputs": [],
   "source": [
    "dataset = load_dataset(\n",
    "    'coco2017', 'keypoints', trust_remote_code=True\n",
    ")"
   ]
  },
  {
   "cell_type": "code",
   "execution_count": null,
   "metadata": {},
   "outputs": [],
   "source": [
    "def transforms(examples):\n",
    "    for objects in examples['objects']:\n",
    "        if objects:\n",
    "            if objects['instance_rles']:\n",
    "                instance_rles = objects['instance_rles']\n",
    "                objects['masks'] = [\n",
    "                    maskUtils.decode({'size': size, 'counts': counts})\n",
    "                    for size, counts in zip(\n",
    "                        instance_rles['size'], instance_rles['counts']\n",
    "                    )\n",
    "                ]\n",
    "    return examples\n",
    "\n",
    "dataset.set_transform(transforms)"
   ]
  },
  {
   "cell_type": "code",
   "execution_count": null,
   "metadata": {},
   "outputs": [],
   "source": [
    "names = dataset['train'].features['objects']['categories'].feature.names"
   ]
  },
  {
   "cell_type": "code",
   "execution_count": null,
   "metadata": {},
   "outputs": [],
   "source": [
    "colors = np.ones((80, 3), np.uint8) * 255\n",
    "colors[:, 0] = np.linspace(0, 255, 80)\n",
    "colors = cv2.cvtColor(colors[None], cv2.COLOR_HSV2RGB)[0]"
   ]
  },
  {
   "cell_type": "code",
   "execution_count": null,
   "metadata": {},
   "outputs": [],
   "source": [
    "def visualize(example, names, colors):\n",
    "    image = np.array(example['image'])\n",
    "    if example['objects']:\n",
    "        objects = example['objects']\n",
    "        bboxes = np.array(objects['bboxes']).round().astype(int)\n",
    "        bboxes[:, 2:] += bboxes[:, :2]\n",
    "        masks = objects['masks']\n",
    "        n = len(objects['bboxes'])\n",
    "        for i in range(n):\n",
    "            c = objects['categories'][i]\n",
    "            color, name = colors[c], names[c]\n",
    "            cv2.rectangle(image, bboxes[i, :2], bboxes[i, 2:], color.tolist(), 2)\n",
    "            cv2.putText(\n",
    "                image, name, bboxes[i, :2], cv2.FONT_HERSHEY_SIMPLEX,\n",
    "                1, color.tolist(), 2, cv2.LINE_AA, False\n",
    "            )\n",
    "            image[masks[i] == 1] = image[masks[i] == 1] // 2 + color // 2\n",
    "    return image\n"
   ]
  },
  {
   "cell_type": "code",
   "execution_count": null,
   "metadata": {},
   "outputs": [],
   "source": [
    "example = dataset['train'][500]\n",
    "Image.fromarray(visualize(example, names, colors))"
   ]
  },
  {
   "cell_type": "code",
   "execution_count": null,
   "metadata": {},
   "outputs": [],
   "source": []
  }
 ],
 "metadata": {
  "kernelspec": {
   "display_name": ".env",
   "language": "python",
   "name": "python3"
  },
  "language_info": {
   "codemirror_mode": {
    "name": "ipython",
    "version": 3
   },
   "file_extension": ".py",
   "mimetype": "text/x-python",
   "name": "python",
   "nbconvert_exporter": "python",
   "pygments_lexer": "ipython3",
   "version": "3.12.2"
  }
 },
 "nbformat": 4,
 "nbformat_minor": 2
}
