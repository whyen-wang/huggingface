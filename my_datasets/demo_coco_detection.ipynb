{
 "cells": [
  {
   "cell_type": "code",
   "execution_count": null,
   "metadata": {},
   "outputs": [],
   "source": [
    "import cv2\n",
    "import numpy as np\n",
    "from PIL import Image\n",
    "from datasets.load import load_dataset\n",
    "from pycocotools import mask as maskUtils"
   ]
  },
  {
   "cell_type": "code",
   "execution_count": null,
   "metadata": {},
   "outputs": [],
   "source": [
    "dataset = load_dataset('coco_detection', trust_remote_code=True)"
   ]
  },
  {
   "cell_type": "code",
   "execution_count": null,
   "metadata": {},
   "outputs": [],
   "source": [
    "def transforms(examples):\n",
    "    inst_rles = examples.pop('inst.rles')\n",
    "    annotation = []\n",
    "    for i in inst_rles:\n",
    "        inst_rles = [\n",
    "            {'size': size, 'counts': counts}\n",
    "            for size, counts in zip(i['size'], i['counts'])\n",
    "        ]\n",
    "        annotation.append(maskUtils.decode(inst_rles))\n",
    "    examples['annotation'] = annotation\n",
    "    return examples\n",
    "\n",
    "def visualize(example, names, colors):\n",
    "    image = np.array(example['image'])\n",
    "    bboxes = np.array(example['bboxes']).round().astype(int)\n",
    "    bboxes[:, 2:] += bboxes[:, :2]\n",
    "    categories = example['categories']\n",
    "    masks = example['annotation']\n",
    "    n = len(bboxes)\n",
    "    for i in range(n):\n",
    "        c = categories[i]\n",
    "        color, name = colors[c], names[c]\n",
    "        cv2.rectangle(image, bboxes[i, :2], bboxes[i, 2:], color.tolist(), 2)\n",
    "        cv2.putText(\n",
    "            image, name, bboxes[i, :2], cv2.FONT_HERSHEY_SIMPLEX,\n",
    "            1, color.tolist(), 2, cv2.LINE_AA, False\n",
    "        )\n",
    "        image[masks[..., i] == 1] = image[masks[..., i] == 1] // 2 + color // 2\n",
    "    return image\n",
    "\n",
    "\n",
    "dataset.set_transform(transforms)\n",
    "\n",
    "names = dataset['train'].features['categories'].feature.names\n",
    "\n",
    "colors = np.ones((80, 3), np.uint8) * 255\n",
    "colors[:, 0] = np.linspace(0, 255, 80)\n",
    "colors = cv2.cvtColor(colors[None], cv2.COLOR_HSV2RGB)[0]\n",
    "\n",
    "example = dataset['train'][500]\n",
    "Image.fromarray(visualize(example, names, colors))"
   ]
  },
  {
   "cell_type": "code",
   "execution_count": null,
   "metadata": {},
   "outputs": [],
   "source": []
  }
 ],
 "metadata": {
  "kernelspec": {
   "display_name": ".env",
   "language": "python",
   "name": "python3"
  },
  "language_info": {
   "codemirror_mode": {
    "name": "ipython",
    "version": 3
   },
   "file_extension": ".py",
   "mimetype": "text/x-python",
   "name": "python",
   "nbconvert_exporter": "python",
   "pygments_lexer": "ipython3",
   "version": "3.12.2"
  }
 },
 "nbformat": 4,
 "nbformat_minor": 2
}
